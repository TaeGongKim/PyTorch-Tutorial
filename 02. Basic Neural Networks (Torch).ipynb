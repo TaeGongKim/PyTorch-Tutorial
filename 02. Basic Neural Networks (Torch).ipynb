{
 "cells": [
  {
   "cell_type": "markdown",
   "metadata": {},
   "source": [
    "# Neural Networks"
   ]
  },
  {
   "cell_type": "markdown",
   "metadata": {},
   "source": [
    "- 신경망은 torch.nn 패키지를 이용하여 생성할 수 있음\n",
    "- nn은 모델을 정의하고 미분하는데 autograd를 사용\n",
    "- nn.Module은 layer와 output을 반환하는 forward(input) 메서드를 포함"
   ]
  },
  {
   "cell_type": "markdown",
   "metadata": {},
   "source": [
    "- 실습으로는 랜던 노이즈 이미지 데이터를 이용한 간단 CNN 모델을 만드는 것을 목표로 한다."
   ]
  },
  {
   "cell_type": "markdown",
   "metadata": {},
   "source": [
    "### 일반적인 학습과정\n",
    "- 학습 가능한 매개변수를 갖는 신경망을 정의\n",
    "- 데이터셋 입력 반복\n",
    "- 입력을 신경망에서 전파\n",
    "- 손실을 계산\n",
    "- 변화도를 신경망의 매개변수들에 역으로 전파\n",
    "- 신경망의 가중치를 갱신 (new weight = weight - learning rate * gradient)"
   ]
  },
  {
   "cell_type": "markdown",
   "metadata": {},
   "source": [
    "## 1. 신경망 정의"
   ]
  },
  {
   "cell_type": "code",
   "execution_count": 3,
   "metadata": {},
   "outputs": [],
   "source": [
    "import torch\n",
    "import torch.nn as nn\n",
    "import torch.nn.functional as F"
   ]
  },
  {
   "cell_type": "code",
   "execution_count": 23,
   "metadata": {},
   "outputs": [],
   "source": [
    "'''\n",
    "    * convolution layer 1\n",
    "    input image shape : (1, 32, 32)\n",
    "    output image shape : (6, 30, 30)\n",
    "\n",
    "    * pooling 2d layer 1\n",
    "    output image shape : (6, 15, 15)\n",
    "\n",
    "    * convolution layer 2\n",
    "    output image shape : (6, 13, 13)\n",
    "    \n",
    "    * pooling 2d layer 2\n",
    "    output image shape : (16, 6, 6)\n",
    "    \n",
    "    * fully connected layer 1\n",
    "    input shape : (16 * 6 * 6)\n",
    "    output shape : (120)\n",
    "    \n",
    "    * fully connected layer 2\n",
    "    input shape : (120)\n",
    "    output shape : (84)\n",
    "    \n",
    "    * fully connected layer 3 (final layer)\n",
    "    input shape : (84)\n",
    "    output shape : (10)\n",
    "'''\n",
    "\n",
    "class Net(nn.Module):\n",
    "    def __init__(self):\n",
    "        super(Net, self).__init__()\n",
    "        # input channel 1, output channel 6, 3 by 3 convolution matrix 사용\n",
    "        self.conv1 = nn.Conv2d(1, 6, 3)\n",
    "        self.conv2 = nn.Conv2d(6, 16, 3)\n",
    "        \n",
    "        # 아핀 연산 : y = Wx + b\n",
    "        self.fc1 = nn.Linear(16 * 6 * 6, 120)\n",
    "        self.fc2 = nn.Linear(120, 84)\n",
    "        self.fc3 = nn.Linear(84, 10)\n",
    "        \n",
    "    def forward(self, x):\n",
    "        x = F.max_pool2d(F.relu(self.conv1(x)), (2, 2))\n",
    "        x = F.max_pool2d(F.relu(self.conv2(x)), 2) # 크기가 제곱수라면 하나의 숫자만을 특정하여 사용 가능\n",
    "        \n",
    "        x = x.view(-1, self.num_flat_features(x))\n",
    "        x = F.relu(self.fc1(x))\n",
    "        x = F.relu(self.fc2(x))\n",
    "        \n",
    "        x = self.fc3(x)\n",
    "        \n",
    "        return x\n",
    "    \n",
    "    def num_flat_features(self, x):\n",
    "        size = x.size()[1:]\n",
    "        num_features = 1\n",
    "        \n",
    "        for s in size:\n",
    "            num_features *= s\n",
    "        \n",
    "        return num_features"
   ]
  },
  {
   "cell_type": "code",
   "execution_count": 24,
   "metadata": {},
   "outputs": [
    {
     "name": "stdout",
     "output_type": "stream",
     "text": [
      "Net(\n",
      "  (conv1): Conv2d(1, 6, kernel_size=(3, 3), stride=(1, 1))\n",
      "  (conv2): Conv2d(6, 16, kernel_size=(3, 3), stride=(1, 1))\n",
      "  (fc1): Linear(in_features=576, out_features=120, bias=True)\n",
      "  (fc2): Linear(in_features=120, out_features=84, bias=True)\n",
      "  (fc3): Linear(in_features=84, out_features=10, bias=True)\n",
      ")\n"
     ]
    }
   ],
   "source": [
    "net = Net()\n",
    "print(net)"
   ]
  },
  {
   "cell_type": "code",
   "execution_count": 25,
   "metadata": {},
   "outputs": [
    {
     "name": "stdout",
     "output_type": "stream",
     "text": [
      "10\n",
      "torch.Size([6, 1, 3, 3])\n",
      "torch.Size([6])\n",
      "torch.Size([16, 6, 3, 3])\n",
      "torch.Size([16])\n"
     ]
    }
   ],
   "source": [
    "# forward 함수를 정의하면 자동으로 backward 함수는 aurograde를 사용하여 자동으로 정의됨\n",
    "# 모델의 학습 가능한 매개변수들은 net.parameters() 에 의해 반환됨\n",
    "params = list(net.parameters())\n",
    "len_params = len(params)\n",
    "\n",
    "# print(params)\n",
    "print(len_params)\n",
    "print(params[0].size()) # conv1 layer의 weight\n",
    "print(params[1].size()) # conv1 layer의 bias\n",
    "print(params[2].size()) # conv2 layer의 weight\n",
    "print(params[3].size()) # conv2 layer의 bias\n",
    "# ..."
   ]
  },
  {
   "cell_type": "code",
   "execution_count": 32,
   "metadata": {},
   "outputs": [
    {
     "name": "stdout",
     "output_type": "stream",
     "text": [
      "tensor([[ 0.0416,  0.0619, -0.0422, -0.0964,  0.1031,  0.0582, -0.0790, -0.0201,\n",
      "         -0.0089,  0.0175]], grad_fn=<AddmmBackward>)\n"
     ]
    }
   ],
   "source": [
    "# 임의의 random image를 이용하여 foward 과정 진행\n",
    "# (nSamples, nChannels, Height, Width)\n",
    "# 하나의 샘플만 있다면, input.unsqueeze(0)을 사용하여 가상의 차원을 추가한다.\n",
    "input = torch.randn(1, 1, 32, 32)\n",
    "out = net(input)\n",
    "print(out)"
   ]
  },
  {
   "cell_type": "code",
   "execution_count": 37,
   "metadata": {},
   "outputs": [],
   "source": [
    "# 모든 매개변수의 변화도 버퍼를 0으로 설정\n",
    "# 역전파 단계를 실행하기 전 변화도를 0으로 설정\n",
    "# backward()를 호출할 때마다 변화도가 buffer에 누적됨\n",
    "net.zero_grad()\n",
    "out.backward(torch.randn(1, 10))"
   ]
  },
  {
   "cell_type": "markdown",
   "metadata": {},
   "source": [
    "## 실습 요약\n",
    "- torch.Tensor >> backward(), autograd 연산을 지원하는 다차원 배열, 또한 tensor에 대한 gradient를 갖고 있음\n",
    "- nn.Module >> 신경망 모듈, 매개변수를 encapsulation하는 간편한 방법으로 gpu로 이동, 내보내기, 불러오기 등의 작업을 위한 helper를 제공함\n",
    "- nn.Parameter >> Tensor의 한 종류, Module에 속성으로 할당될 때 자동으로 매개변수로 등록됨\n",
    "- autograd.Function >> autograd 연산의 전방향과 역방향 정의를 구현, 모든 Tensor 연산은 하나 이상의 Function 노드를 생성하며, 각 노드는 Tensor를 생성하고 history를 부호화하는 함수들과 연결하고 있음"
   ]
  },
  {
   "cell_type": "markdown",
   "metadata": {},
   "source": [
    "## 2. 손실함수"
   ]
  },
  {
   "cell_type": "markdown",
   "metadata": {},
   "source": [
    "손실함수는 output, target을 입력으로 받아, 두 입력 값의 차이가 얼마나 멀리 떨어져있는지 추정하는 값을 계산"
   ]
  },
  {
   "cell_type": "code",
   "execution_count": 40,
   "metadata": {},
   "outputs": [
    {
     "name": "stdout",
     "output_type": "stream",
     "text": [
      "tensor(1.1209, grad_fn=<MseLossBackward>)\n"
     ]
    }
   ],
   "source": [
    "# mean squared error\n",
    "output = net(input)\n",
    "target = torch.randn(10)\n",
    "target = target.view(1, -1)\n",
    "criterion = nn.MSELoss()\n",
    "\n",
    "loss = criterion(output, target)\n",
    "print(loss)"
   ]
  },
  {
   "cell_type": "markdown",
   "metadata": {},
   "source": [
    "실습 모델의 연산 그래프 개요를 다음과 같이 정리할 수 있음"
   ]
  },
  {
   "cell_type": "raw",
   "metadata": {},
   "source": [
    "input -> conv2d -> relu -> maxpool2d\n",
    "      -> conv2d -> relu -> maxpool2d\n",
    "      -> view -> linear -> relu\n",
    "      -> linear -> relu\n",
    "      -> linear\n",
    "      -> MSELoss\n",
    "      -> loss"
   ]
  },
  {
   "cell_type": "code",
   "execution_count": 49,
   "metadata": {},
   "outputs": [
    {
     "name": "stdout",
     "output_type": "stream",
     "text": [
      "<MseLossBackward object at 0x000001F492532250>\n",
      "<AddmmBackward object at 0x000001F49758F3D0>\n",
      "<AccumulateGrad object at 0x000001F49756AD00>\n"
     ]
    }
   ],
   "source": [
    "print(loss.grad_fn) # MSELoss\n",
    "print(loss.grad_fn.next_functions[0][0]) # Linear\n",
    "print(loss.grad_fn.next_functions[0][0].next_functions[0][0]) # ReLU"
   ]
  },
  {
   "cell_type": "markdown",
   "metadata": {},
   "source": [
    "## 3. 역전파"
   ]
  },
  {
   "cell_type": "code",
   "execution_count": 50,
   "metadata": {},
   "outputs": [
    {
     "name": "stdout",
     "output_type": "stream",
     "text": [
      "conv1 bias.grad before backward\n",
      "tensor([0., 0., 0., 0., 0., 0.])\n",
      "conv1 bias.grad after backward\n",
      "tensor([ 0.0050, -0.0073,  0.0121,  0.0140,  0.0015, -0.0248])\n"
     ]
    }
   ],
   "source": [
    "# 기존 변화도를 없애는 작업 해주어야 함\n",
    "# 그렇지 않으면 기존의 것에 누적되기 때문\n",
    "\n",
    "# 변화도를 초기화\n",
    "net.zero_grad()\n",
    "\n",
    "print('conv1 bias.grad before backward')\n",
    "print(net.conv1.bias.grad)\n",
    "\n",
    "loss.backward()\n",
    "\n",
    "print('conv1 bias.grad after backward')\n",
    "print(net.conv1.bias.grad)"
   ]
  },
  {
   "cell_type": "markdown",
   "metadata": {},
   "source": [
    "## 4. 가중치 갱신"
   ]
  },
  {
   "cell_type": "markdown",
   "metadata": {},
   "source": [
    "- SGD 사용 (Stochastic Gradient Descent)\n",
    "- new weight = weight - learning rate * gradient"
   ]
  },
  {
   "cell_type": "code",
   "execution_count": 51,
   "metadata": {},
   "outputs": [],
   "source": [
    "# python code 로 간단히 작성해보기\n",
    "learning_rate = 0.01\n",
    "for f in net.parameters():\n",
    "    f.data.sub_(f.grad.data * learning_rate)"
   ]
  },
  {
   "cell_type": "code",
   "execution_count": 52,
   "metadata": {},
   "outputs": [],
   "source": [
    "# SGD, Nesterov-SGD, Adam, RMSProp 등과 같은 다양한 갱신 규칙을 사용\n",
    "# torch.optim을 이용"
   ]
  },
  {
   "cell_type": "code",
   "execution_count": 53,
   "metadata": {},
   "outputs": [],
   "source": [
    "import torch.optim as optim\n",
    "\n",
    "# optimizer 생성\n",
    "optimizer = optim.SGD(net.parameters(), lr = 0.01)\n",
    "\n",
    "# 학습 과정\n",
    "optimizer.zero_grad()\n",
    "output = net(input)\n",
    "loss = criterion(output, target)\n",
    "loss.backward()\n",
    "optimizer.step()"
   ]
  },
  {
   "cell_type": "code",
   "execution_count": null,
   "metadata": {},
   "outputs": [],
   "source": []
  }
 ],
 "metadata": {
  "kernelspec": {
   "display_name": "Python 3",
   "language": "python",
   "name": "python3"
  },
  "language_info": {
   "codemirror_mode": {
    "name": "ipython",
    "version": 3
   },
   "file_extension": ".py",
   "mimetype": "text/x-python",
   "name": "python",
   "nbconvert_exporter": "python",
   "pygments_lexer": "ipython3",
   "version": "3.8.5"
  }
 },
 "nbformat": 4,
 "nbformat_minor": 4
}
